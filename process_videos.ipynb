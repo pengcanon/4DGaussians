{
 "cells": [
  {
   "cell_type": "code",
   "execution_count": 1,
   "id": "49409901-1a4f-4347-bdab-230f2269324b",
   "metadata": {
    "tags": []
   },
   "outputs": [],
   "source": [
    "import os\n",
    "import cv2\n",
    "import argparse"
   ]
  },
  {
   "cell_type": "code",
   "execution_count": 24,
   "id": "eb67cbb7-731b-4e57-810e-17d609a26f2e",
   "metadata": {
    "tags": []
   },
   "outputs": [],
   "source": [
    "data_path = './data'"
   ]
  },
  {
   "cell_type": "code",
   "execution_count": 37,
   "id": "f5906bfd-2627-47d7-8464-0ce4febbf26a",
   "metadata": {
    "tags": []
   },
   "outputs": [
    {
     "name": "stdout",
     "output_type": "stream",
     "text": [
      "./data/cut_roasted_beef/cam00\n",
      "./data/cut_roasted_beef/cam00\\images/\n"
     ]
    }
   ],
   "source": [
    "name = data_path+'/cut_roasted_beef'+'/cam'+'0'.zfill(2)\n",
    "print(name)\n",
    "outpath = os.path.join(name, \"images/\")\n",
    "print(outpath)\n"
   ]
  },
  {
   "cell_type": "code",
   "execution_count": 54,
   "id": "43bccc11-4c2a-4a04-a79f-defaa1bc6690",
   "metadata": {
    "tags": []
   },
   "outputs": [],
   "source": [
    "def generate_imgs(data_path):\n",
    "    cams = []\n",
    "\n",
    "    for i in range(21):\n",
    "        name = data_path + \"/cam\" + str(i).zfill(2)\n",
    "        cam = cv2.VideoCapture(name + \".mp4\")\n",
    "\n",
    "        try:\n",
    "            os.mkdir(name)\n",
    "            outpath = os.path.join(name, \"images/\")\n",
    "            os.mkdir(outpath)\n",
    "        except:\n",
    "            continue\n",
    "\n",
    "        print('start processing')\n",
    "        if (cam.isOpened()== False):\n",
    "            print(\"Error opening video stream or file\")\n",
    "        \n",
    "        # Read until video is completed\n",
    "        j = 0\n",
    "        while True:\n",
    "            ret, frame = cam.read()\n",
    "            \n",
    "            if ret == True:\n",
    "                h, w, _ = frame.shape\n",
    "                frame = cv2.resize(frame, (w//2, h//2), interpolation=cv2.INTER_AREA)\n",
    "                cv2.imwrite(outpath + \"/\" + str(j).zfill(4) + \".png\", frame)\n",
    "                j += 1\n",
    "            else:\n",
    "                break\n",
    "        \n",
    "        print(f\"Done with {name}\")"
   ]
  },
  {
   "cell_type": "code",
   "execution_count": 55,
   "id": "38c3b6e7-c73e-4a19-91c1-6cc23ea922ae",
   "metadata": {
    "tags": []
   },
   "outputs": [
    {
     "name": "stdout",
     "output_type": "stream",
     "text": [
      "start processing\n",
      "Done with ./data/cut_roasted_beef/cam20\n"
     ]
    }
   ],
   "source": [
    "generate_imgs(data_path+'/cut_roasted_beef')"
   ]
  },
  {
   "cell_type": "code",
   "execution_count": 39,
   "id": "84a404f1-9e2a-4f68-957a-2a564e02cc52",
   "metadata": {
    "tags": []
   },
   "outputs": [
    {
     "name": "stdout",
     "output_type": "stream",
     "text": [
      "./data/cut_roasted_beef/cam00\\images/\n"
     ]
    }
   ],
   "source": [
    "outpath = os.path.join(name, 'images/')\n",
    "print(outpath)"
   ]
  },
  {
   "cell_type": "code",
   "execution_count": 40,
   "id": "fd007bd7-5aa0-4bf6-9c30-6b0d38ee832a",
   "metadata": {
    "tags": []
   },
   "outputs": [
    {
     "data": {
      "text/plain": [
       "'./data/cut_roasted_beef/cam00'"
      ]
     },
     "execution_count": 40,
     "metadata": {},
     "output_type": "execute_result"
    }
   ],
   "source": [
    "name"
   ]
  },
  {
   "cell_type": "code",
   "execution_count": 41,
   "id": "c28ed336-f9b8-4b58-a82d-bf9b291e77a7",
   "metadata": {
    "tags": []
   },
   "outputs": [],
   "source": [
    "os.mkdir(outpath)"
   ]
  },
  {
   "cell_type": "code",
   "execution_count": null,
   "id": "e1c0f527-19b0-404c-bb3e-a9d4ae642578",
   "metadata": {},
   "outputs": [],
   "source": []
  }
 ],
 "metadata": {
  "kernelspec": {
   "display_name": "Python 3 (ipykernel)",
   "language": "python",
   "name": "python3"
  },
  "language_info": {
   "codemirror_mode": {
    "name": "ipython",
    "version": 3
   },
   "file_extension": ".py",
   "mimetype": "text/x-python",
   "name": "python",
   "nbconvert_exporter": "python",
   "pygments_lexer": "ipython3",
   "version": "3.9.13"
  }
 },
 "nbformat": 4,
 "nbformat_minor": 5
}
